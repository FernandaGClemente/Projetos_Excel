{
 "cells": [
  {
   "cell_type": "markdown",
   "id": "1529c227",
   "metadata": {},
   "source": [
    "# Estudo do Microsoft Excel"
   ]
  },
  {
   "cell_type": "markdown",
   "id": "9c5cb5b9",
   "metadata": {},
   "source": [
    "### 1. Quantas canetas são vendidas? O total de um número específico de itens vendidos. \n",
    "    Fórmula = SOMASES(conjunto de dados[Vendido],conjunto de dados[Item],CelulaNomeDoItem)"
   ]
  },
  {
   "cell_type": "markdown",
   "id": "1176ea9d",
   "metadata": {},
   "source": [
    "### 2. Quantos itens foram devolvidos em 21 de outubro? Isso mostrará o número total de itens devolvidos em 21 de outubro. Além disso, se você alterar o Mês na Célula L5, poderá obter o número total de itens devolvidos naquele Mês. \n",
    "    Fórmula = SOMASES(conjunto de dados[Devolução],conjunto de dados[Mês],CelulaNomeDoMes)"
   ]
  },
  {
   "cell_type": "markdown",
   "id": "d3d0fa21",
   "metadata": {},
   "source": [
    "### 3. Total vendido em um determinado período. Isso mostrará quantos itens foram vendidos em um determinado período de tempo. Além disso, se você alterar a data final ou inicial, os valores serão alterados de acordo. \n",
    "    Fórmula = SOMASES(conjunto de dados[Vendido],conjunto de dados[Mês],\">=\"&CelulaDataInicial,conjunto de dados[Mês],\"<=\"&CelulaDataFinal)"
   ]
  },
  {
   "cell_type": "markdown",
   "id": "4724d04a",
   "metadata": {},
   "source": [
    "### 4. Com que frequência 1 item foi vendido mais de 500 vezes por mês? Isso capturará o número de vezes que um item foi vendido mais de 500 vezes. \n",
    "    Fórmula = CONT.SES(conjunto de dados[Vendido],\">500\")"
   ]
  },
  {
   "cell_type": "markdown",
   "id": "a772f3c8",
   "metadata": {},
   "source": [
    "### 5. Qual a Média de Item Devolvido? Isso mostrará a média de cada item devolvido. Se você alterar o nome do item na Célula L5, receberá a média desse item retornada. \n",
    "    Fórmula = MÉDIASES(conjunto de dados[Devolução],conjunto de dados[Item],CelulaNomeDoItem)"
   ]
  },
  {
   "cell_type": "markdown",
   "id": "2c56ea43",
   "metadata": {},
   "source": [
    "### 6. Em média, quantos itens foram vendidos por mês? Isso lhe dará uma média de quantos itens foram vendidos em cada mês. \n",
    "    Fórmula = MÉDIASES(conjunto de dados[Vendido],conjunto de dados[Mês],CelulaNomeDoMês)"
   ]
  },
  {
   "cell_type": "markdown",
   "id": "bd8adc95",
   "metadata": {},
   "source": [
    "### 7. Qual foi o maior valor de venda de cada item e em que mês ocorreu? <br>\n",
    "#### Etapa 1. Encontre o maior número de vendas para cada item. \n",
    "    Faça uma lista de todos os itens \n",
    "    Fórmula = MAXSES(conjunto de dados[Vendido],conjunto de dados[Item],CelulaDeUmItemDaLista) \n",
    "#### Etapa 2. Descubra em que mês aconteceu.\n",
    "    =INDEX(conjunto de dados[Mês],CORRESP(CelulaResultadoEtapa1,conjunto de dados[Vendido],0))"
   ]
  },
  {
   "cell_type": "markdown",
   "id": "fd040230",
   "metadata": {},
   "source": [
    "### 8. Qual mês tem a maior % de retorno? <br>\n",
    "#### Etapa 1. Obtenha o total devolvido em cada mês\n",
    "    Fórmula = SOMASES(conjunto de dados[Devolução],conjunto de dados[Mês],CelulaNomeDoMês)\n",
    "#### Etapa 2. Obtenha o total vendido em cada mês\n",
    "    Fórmula = SOMASES(conjunto de dados[Vendido],conjunto de dados[Mês],CelulaNomeDoMês)\n",
    "#### Etapa 3. Obtenha a %\n",
    "    ResultadoEtapa1/ResultadoEtpa2"
   ]
  }
 ],
 "metadata": {
  "kernelspec": {
   "display_name": "Python 3 (ipykernel)",
   "language": "python",
   "name": "python3"
  },
  "language_info": {
   "codemirror_mode": {
    "name": "ipython",
    "version": 3
   },
   "file_extension": ".py",
   "mimetype": "text/x-python",
   "name": "python",
   "nbconvert_exporter": "python",
   "pygments_lexer": "ipython3",
   "version": "3.9.16"
  }
 },
 "nbformat": 4,
 "nbformat_minor": 5
}
