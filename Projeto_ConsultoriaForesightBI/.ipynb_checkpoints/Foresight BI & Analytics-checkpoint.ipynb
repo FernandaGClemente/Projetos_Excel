{
 "cells": [
  {
   "cell_type": "markdown",
   "id": "8dcc278e",
   "metadata": {},
   "source": [
    "A Foresight BI & Analytics é uma empresa de consultoria e treinamento. Eles são especializados no desenvolvimento de soluções e treinamento de relatórios do Microsoft Power BI para indivíduos e organizações.\n",
    "\n",
    "A empresa tem alguns cursos individualizados hospedados em um sistema de gerenciamento de aprendizagem (LMS). O Analytics fornecido pelo aplicativo LMS não fornece informações suficientes exigidas pelo gerenciamento.\n",
    "\n",
    "Eles podem extrair alguns dados do aplicativo que incluem:\n",
    "\n",
    "Matrículas de Alunos\n",
    "Questionários dos alunos.\n",
    "O Foresight BI espera usar os dados para melhorar o envolvimento do aluno, o marketing e também melhorar o currículo do curso.\n",
    "\n",
    "> https://medium.com/@kzaynab260/analysis-of-an-e-learning-platform-foresight-bi-and-analytics-ebbbf49a1b60 <br>\n",
    "> https://foresightbi.com.ng/practice-data/3-datasets-for-your-portfolio/"
   ]
  }
 ],
 "metadata": {
  "kernelspec": {
   "display_name": "Python 3 (ipykernel)",
   "language": "python",
   "name": "python3"
  },
  "language_info": {
   "codemirror_mode": {
    "name": "ipython",
    "version": 3
   },
   "file_extension": ".py",
   "mimetype": "text/x-python",
   "name": "python",
   "nbconvert_exporter": "python",
   "pygments_lexer": "ipython3",
   "version": "3.9.16"
  }
 },
 "nbformat": 4,
 "nbformat_minor": 5
}
